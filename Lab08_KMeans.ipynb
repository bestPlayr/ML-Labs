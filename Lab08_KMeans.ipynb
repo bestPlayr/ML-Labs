{
  "nbformat": 4,
  "nbformat_minor": 0,
  "metadata": {
    "colab": {
      "provenance": []
    },
    "kernelspec": {
      "name": "python3",
      "display_name": "Python 3"
    },
    "language_info": {
      "name": "python"
    }
  },
  "cells": [
    {
      "cell_type": "code",
      "execution_count": 1,
      "metadata": {
        "id": "8uuay-iFVhte",
        "colab": {
          "base_uri": "https://localhost:8080/"
        },
        "outputId": "e2f26bc9-1466-4ca7-8a64-b8b12f5ed2c0"
      },
      "outputs": [
        {
          "output_type": "stream",
          "name": "stdout",
          "text": [
            "Converged in 6 iterations.\n",
            "Silhouette Score: 0.5528\n",
            "Sum of Squared Errors (SSE): 78.85\n"
          ]
        }
      ],
      "source": [
        "import numpy as np\n",
        "from sklearn.datasets import load_iris\n",
        "from sklearn.metrics import silhouette_score\n",
        "import matplotlib.pyplot as plt\n",
        "\n",
        "# Your custom functions\n",
        "def euclidean_distance_manual(a, b):\n",
        "    squared_diff = [(x - y) ** 2 for x, y in zip(a, b)]\n",
        "    return sum(squared_diff) ** 0.5\n",
        "\n",
        "def kmeans_from_scratch(X, k=3, max_iters=100, tol=1e-4):\n",
        "    np.random.seed(42)\n",
        "    n_samples, n_features = X.shape\n",
        "    initial_indices = np.random.choice(n_samples, k, replace=False)\n",
        "    centroids = X[initial_indices]\n",
        "\n",
        "    for iteration in range(max_iters):\n",
        "        distances = []\n",
        "        for point in X:\n",
        "            point_distances = []\n",
        "            for centroid in centroids:\n",
        "                dist = euclidean_distance_manual(point, centroid)\n",
        "                point_distances.append(dist)\n",
        "            distances.append(point_distances)\n",
        "        distances = np.array(distances)\n",
        "        labels = np.argmin(distances, axis=1)\n",
        "\n",
        "        new_centroids = np.array([X[labels == i].mean(axis=0) for i in range(k)])\n",
        "\n",
        "        diffs = [euclidean_distance_manual(c_old, c_new) for c_old, c_new in zip(centroids, new_centroids)]\n",
        "        if sum(diffs) < tol:\n",
        "            print(f\"Converged in {iteration + 1} iterations.\")\n",
        "            break\n",
        "        centroids = new_centroids\n",
        "\n",
        "    sse = 0\n",
        "    for i in range(k):\n",
        "        cluster_points = X[labels == i]\n",
        "        cluster_distances = [euclidean_distance_manual(point, centroids[i]) ** 2 for point in cluster_points]\n",
        "        sse += sum(cluster_distances)\n",
        "\n",
        "    return labels, centroids, sse\n",
        "\n",
        "# Load Iris dataset\n",
        "iris = load_iris()\n",
        "X = iris.data  # Ignore true labels for clustering\n",
        "\n",
        "# Apply K-Means\n",
        "labels, centroids, sse = kmeans_from_scratch(X, k=3)\n",
        "\n",
        "# Silhouette Score\n",
        "score = silhouette_score(X, labels)\n",
        "print(f\"Silhouette Score: {score:.4f}\")\n",
        "print(f\"Sum of Squared Errors (SSE): {sse:.2f}\")\n",
        "\n",
        "\n"
      ]
    }
  ]
}